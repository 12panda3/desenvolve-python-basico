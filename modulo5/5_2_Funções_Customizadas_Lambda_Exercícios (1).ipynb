{
  "cells": [
    {
      "cell_type": "markdown",
      "id": "cbdff5a5",
      "metadata": {
        "id": "cbdff5a5"
      },
      "source": [
        "# Módulo 5 - Funções\n",
        "\n",
        "## Aulas 5.2 - Funções Customizadas e 5.4 Funções ```lambda```"
      ]
    },
    {
      "cell_type": "markdown",
      "id": "28a3fee2",
      "metadata": {
        "id": "28a3fee2"
      },
      "source": [
        "### Q1.\n",
        "\n",
        "- Sabendo que o código a seguir calcula o fatorial de n, escreva uma função chamada ```fatorial()``` que recebe um inteiro ```n``` como parâmetro e retorna o resultado do fatorial de ```n```.\n",
        "- No programa principal, peça ao usuário o valor de ```n```, chame a sua função e imprima o retorno.\n",
        "\n",
        "```python\n",
        "fat = 1\n",
        "for i in range(1, n+1):\n",
        "    fat *= i\n",
        "```"
      ]
    },
    {
      "cell_type": "code",
      "execution_count": null,
      "id": "d126b3a5",
      "metadata": {
        "id": "d126b3a5"
      },
      "outputs": [],
      "source": [
        "def fatorial(n):\n",
        "  fat = 1\n",
        "  for i in range(1, n+1):\n",
        "    fat *= i\n",
        "\n",
        "  return fat"
      ]
    },
    {
      "cell_type": "code",
      "execution_count": null,
      "id": "6e4fe64e",
      "metadata": {
        "colab": {
          "base_uri": "https://localhost:8080/"
        },
        "id": "6e4fe64e",
        "outputId": "762634cd-1f21-4891-bf15-5700aaecaa10"
      },
      "outputs": [
        {
          "output_type": "stream",
          "name": "stdout",
          "text": [
            "Insira o número a ser potencializado 4\n",
            "24\n"
          ]
        }
      ],
      "source": [
        "n = int(input(\"Insira o número a ser potencializado \"))\n",
        "\n",
        "res = fatorial(n)\n",
        "print(res)"
      ]
    },
    {
      "cell_type": "markdown",
      "id": "c0a1f599",
      "metadata": {
        "id": "c0a1f599"
      },
      "source": [
        "### Q2.\n",
        "\n",
        "- Escreva uma função em Python chamada ```soma_quadrados``` que recebe dois números como parâmetros e retorna a soma dos seus quadrados.\n",
        "- No programa principal solicite ao usuário que insira dois números e utilize a função para exibir a soma dos quadrados."
      ]
    },
    {
      "cell_type": "code",
      "execution_count": null,
      "id": "6dbddaad",
      "metadata": {
        "id": "6dbddaad"
      },
      "outputs": [],
      "source": [
        "def soma_quadrados(n, m):\n",
        "  n = n*n\n",
        "\n",
        "  m = m*m\n",
        "\n",
        "  res = m+n\n",
        "\n",
        "  return res"
      ]
    },
    {
      "cell_type": "code",
      "execution_count": null,
      "id": "9175a7da",
      "metadata": {
        "colab": {
          "base_uri": "https://localhost:8080/"
        },
        "id": "9175a7da",
        "outputId": "7f076b35-92d0-4841-9666-034d83920618"
      },
      "outputs": [
        {
          "output_type": "stream",
          "name": "stdout",
          "text": [
            "Digite o primeiro número 3\n",
            "Digite o segundo número 2\n",
            "13.0\n"
          ]
        }
      ],
      "source": [
        "n = float(input(\"Digite o primeiro número \"))\n",
        "\n",
        "m = float(input(\"Digite o segundo número \"))\n",
        "\n",
        "x = soma_quadrados(n, m)\n",
        "print(x)"
      ]
    },
    {
      "cell_type": "markdown",
      "id": "6ba34ce0",
      "metadata": {
        "id": "6ba34ce0"
      },
      "source": [
        "### Q3.\n",
        "\n",
        "- Crie uma função em Python chamada ```soma_digitos``` que recebe um número inteiro como parâmetro e retorna a soma dos seus dígitos. Por exemplo, para o número 123, a função deve retornar 6, $(1 + 2 + 3)$.\n",
        "    - O desafio aqui é separar os dígitos de um número inteiro usando operações aritméticas <br> <br>\n",
        "\n",
        "- No programa principal solicite ao usuário que insira um número e utilize a função ```soma_digitos``` para calcular e exibir a soma dos seus dígitos."
      ]
    },
    {
      "cell_type": "code",
      "execution_count": null,
      "id": "34838ebf",
      "metadata": {
        "id": "34838ebf"
      },
      "outputs": [],
      "source": [
        "def soma_digitos(n):\n",
        "    res = 0\n",
        "    while n > 0:\n",
        "        m = n % 10\n",
        "        res += m\n",
        "        n = n // 10\n",
        "    return res\n",
        "\n"
      ]
    },
    {
      "cell_type": "code",
      "execution_count": null,
      "id": "27c35b21",
      "metadata": {
        "id": "27c35b21",
        "colab": {
          "base_uri": "https://localhost:8080/"
        },
        "outputId": "a30c4de9-4804-407f-a73d-906925c6a114"
      },
      "outputs": [
        {
          "output_type": "stream",
          "name": "stdout",
          "text": [
            "Digite um número: 123\n",
            "Resultado =  6\n"
          ]
        }
      ],
      "source": [
        "num = int(input(\"Digite um número: \"))\n",
        "resultado = soma_digitos(abs(num))\n",
        "print('Resultado = ', resultado)\n"
      ]
    },
    {
      "cell_type": "markdown",
      "id": "c318b159",
      "metadata": {
        "id": "c318b159"
      },
      "source": [
        "### Q4.\n",
        "\n",
        "- Crie a função ```inverteValor()``` que recebe um inteiro de qualquer tamanho e retorna esse valor invertido usando apenas operações aritméticas\n",
        "- Crie a função ```verificaInverso()``` que recebe o valor original e o valor invertido e retorna verdadeiro se ambos forem igualmente par ou igualmente ímpar. Retorne falso caso contrário.\n",
        "- No programa principal, peça um valor do usuário e imprima o retorno de ambas as funções.\n"
      ]
    },
    {
      "cell_type": "code",
      "execution_count": null,
      "id": "e4e47d1d",
      "metadata": {
        "id": "e4e47d1d"
      },
      "outputs": [],
      "source": [
        "def inverteValor(n):\n",
        "    inv = 0\n",
        "    while n > 0:\n",
        "        ult = n % 10\n",
        "        inv = inv * 10 + ult\n",
        "        n = n // 10\n",
        "    return inv\n",
        "\n",
        "def verificaInverso(original, inv):\n",
        "    return (original % 2 == inv % 2)"
      ]
    },
    {
      "cell_type": "code",
      "execution_count": null,
      "id": "a9514e56",
      "metadata": {
        "id": "a9514e56",
        "colab": {
          "base_uri": "https://localhost:8080/"
        },
        "outputId": "40d28dd0-4c44-4997-fe23-5c57f35c7681"
      },
      "outputs": [
        {
          "output_type": "stream",
          "name": "stdout",
          "text": [
            "Digite um número: 256\n",
            "Número invertido:  652\n",
            "São ambos par ou ambos ímpar?  True\n"
          ]
        }
      ],
      "source": [
        "nmr = int(input(\"Digite um número: \"))\n",
        "nmr_inv = inverteValor(abs(nmr))\n",
        "\n",
        "print(\"Número invertido: \", nmr_inv)\n",
        "print(\"Os dois são ímpares/pares? \", verificaInverso(nmr, nmr_inv))"
      ]
    },
    {
      "cell_type": "markdown",
      "id": "329be966",
      "metadata": {
        "id": "329be966"
      },
      "source": [
        "### Q5.\n",
        "\n",
        "Você está desenvolvendo um programa para auxiliar em cálculos de geometria básica. Crie as seguintes funções:\n",
        "- A função ```calcula_perimetro_triangulo()``` que recebe três inteiros correspondentes aos lados de um triângulo e retorna o perímetro do triângulo, ou seja, a soma dos seus lados.\n",
        "- A função ```calcula_perimetro_circulo()``` que recebe um inteiro referente ao raio do círculo e retorna o perímetro do círculo, dado por $2 \\pi r$. Use a constante $\\pi$ da biblioteca ```math```.\n",
        "- A função ```calcula_perimetro_retangulo()``` que possui um parâmetro obrigatório ```lado1``` e um opcional ```lado2```, ambos inteiros. Se o valor opcional não for fornecido, significa que se trata de um quadrado. Sua função deve calcular e retornar o perímetro do retângulo, ou seja, a soma de seus lados.\n",
        "    - Para o quadrado, é dado por $4 \\times lado1$\n",
        "    - Para o retângulo é dado por $2 \\times lado1 + 2 \\times lado2$\n",
        "    \n",
        "- No programa principal apresente um menu com as opções disponíveis do seu sistema e uma quarta opção ```Sair```. Solicite ao usuário a opção desejada, solicite as entradas correspondentes à opção escolhida, invoque a respective função e apresente o seu retorno. Seu programa deve retornar ao menu até que o usuário escolha a opção ```Sair```\n",
        "\n",
        "Exemplo de interação:\n",
        "```\n",
        "1 - Calcular perímetro triângulo\n",
        "2 - Calcular perímetro círculo\n",
        "3 - Calcular perímetro retângulo\n",
        "4 - Sair\n",
        "\n",
        "Opção: 1\n",
        "Digite os três lados do triângulo:\n",
        "3\n",
        "4\n",
        "5\n",
        "O perímetro é: 12\n",
        "\n",
        "1 - Calcular perímetro triângulo\n",
        "2 - Calcular perímetro círculo\n",
        "3 - Calcular perímetro retângulo\n",
        "4 - Sair\n",
        "\n",
        "Opção: 3\n",
        "Informe os dois lados do retângulo. Se for um quadrado, digite 0 para o segundo valor:\n",
        "5\n",
        "0\n",
        "O perímetro é: 20\n",
        "\n",
        "1 - Calcular perímetro triângulo\n",
        "2 - Calcular perímetro círculo\n",
        "3 - Calcular perímetro retângulo\n",
        "4 - Sair\n",
        "\n",
        "Opção: 4\n",
        "```"
      ]
    },
    {
      "cell_type": "code",
      "execution_count": null,
      "id": "0793d328",
      "metadata": {
        "id": "0793d328"
      },
      "outputs": [],
      "source": [
        "import math\n",
        "\n",
        "def calcula_perimetro_triangulo(lado1, lado2, lado3):\n",
        "    res = lado1 + lado2 + lado3\n",
        "    return res\n",
        "\n",
        "def calcula_perimetro_circulo(r):\n",
        "    res = 2 * math.pi * r\n",
        "    return res\n",
        "\n",
        "def calcula_perimetro_retangulo(lado1, lado2=None):\n",
        "    if lado2 is None:\n",
        "        res = 4 * lado1\n",
        "        return res\n",
        "\n",
        "    else:\n",
        "        res = (2 * lado1) + (2 * lado2)\n",
        "        return res\n",
        "\n"
      ]
    },
    {
      "cell_type": "code",
      "execution_count": null,
      "id": "36269c71",
      "metadata": {
        "id": "36269c71",
        "colab": {
          "base_uri": "https://localhost:8080/"
        },
        "outputId": "c3c6f21d-d806-43ef-db8c-c31a3aa50164"
      },
      "outputs": [
        {
          "name": "stdout",
          "output_type": "stream",
          "text": [
            "\n",
            "Escolha uma opção:\n",
            "1 calcular perímetro do triângulo\n",
            "2 calcular perímetro do círculo \n",
            "3 Calcular perímetro do retângulo ou quadrado\n",
            "4 sair\n",
            "3\n",
            "Digite o valor do lado 1: 4\n",
            "Digite o lado 2, se não conter, insira 0: 5\n",
            "Perímetro do retângulo:  18\n",
            "\n",
            "Escolha uma opção:\n",
            "1 calcular perímetro do triângulo\n",
            "2 calcular perímetro do círculo \n",
            "3 Calcular perímetro do retângulo ou quadrado\n",
            "4 sair\n",
            "4\n"
          ]
        }
      ],
      "source": [
        "def main():\n",
        "    while True:\n",
        "        print(\"\\nEscolha uma opção:\")\n",
        "        print(\"1 calcular perímetro do triângulo\")\n",
        "        print(\"2 calcular perímetro do círculo \")\n",
        "        print(\"3 Calcular perímetro do retângulo ou quadrado\")\n",
        "        print(\"4 sair\")\n",
        "        opt = int(input())\n",
        "\n",
        "        if opt == 1:\n",
        "            lado1 = int(input(\"Digite o valor do lado 1: \"))\n",
        "            lado2 = int(input(\"Digite o valor do lado 2: \"))\n",
        "            lado3 = int(input(\"Digite o valor do lado 3: \"))\n",
        "\n",
        "            p = calcula_perimetro_triangulo(lado1, lado2, lado3)\n",
        "            print(\"perímetro do triângulo: \", p)\n",
        "\n",
        "        elif opt == 2:\n",
        "            raio = int(input(\"Digite o raio: \"))\n",
        "\n",
        "            p = calcula_perimetro_circulo(raio)\n",
        "            print(\"Perímetro do círculo: \", p)\n",
        "\n",
        "        elif opt == 3:\n",
        "            lado1 = int(input(\"Digite o valor do lado 1: \"))\n",
        "            lado2 = input(\"Digite o lado 2, se não conter, insira 0: \")\n",
        "\n",
        "            if lado2 == 0:\n",
        "                p = calcula_perimetro_retangulo(lado1)\n",
        "\n",
        "            else:\n",
        "\n",
        "                lado2 = int(lado2)\n",
        "                p = calcula_perimetro_retangulo(lado1, lado2)\n",
        "            print(\"Perímetro do retângulo: \", p)\n",
        "\n",
        "        elif opt == 4:\n",
        "            break\n",
        "\n",
        "        else:\n",
        "            print(\"opção inválida\")\n",
        "\n",
        "\n",
        "main()\n"
      ]
    },
    {
      "cell_type": "markdown",
      "id": "3016bcc7",
      "metadata": {
        "id": "3016bcc7"
      },
      "source": [
        "## Funções ```lambda```"
      ]
    },
    {
      "cell_type": "markdown",
      "id": "f9cdb8dd",
      "metadata": {
        "id": "f9cdb8dd"
      },
      "source": [
        "### Q6.\n",
        "\n",
        "Crie uma função lambda para verificar se um número é par ou ímpar. Em seguida, solicite ao usuário um número indefinidos de valores (até que o usuário digite 0). Para cada valor de entrada, informe se é par ou ímpar.\n",
        "\n",
        "Exemplo de interação:\n",
        "```\n",
        "Digite os valores que deseja verificar a paridade (digite 0 para finalizar a entrada de dados):\n",
        "3\n",
        "ímpar\n",
        "8\n",
        "par\n",
        "12\n",
        "par\n",
        "5\n",
        "ímpar\n",
        "7ímpar\n",
        "```"
      ]
    },
    {
      "cell_type": "code",
      "execution_count": null,
      "id": "e3c31a78",
      "metadata": {
        "id": "e3c31a78",
        "colab": {
          "base_uri": "https://localhost:8080/"
        },
        "outputId": "d76c395e-7511-48ed-b9c9-ae7d44f12d73"
      },
      "outputs": [
        {
          "output_type": "stream",
          "name": "stdout",
          "text": [
            "Digite um número, ou digite 0 para sair: 5\n",
            "O número é ímpar.\n",
            "Digite um número, ou digite 0 para sair: 6\n",
            "O número é par.\n",
            "Digite um número, ou digite 0 para sair: 2\n",
            "O número é par.\n",
            "Digite um número, ou digite 0 para sair: 0\n",
            "Saindo...\n"
          ]
        }
      ],
      "source": [
        "ver = lambda x: \"par\" if x % 2 == 0 else \"ímpar\"\n",
        "\n",
        "def main():\n",
        "    while True:\n",
        "        numero = int(input(\"Digite um número, ou digite 0 para sair: \"))\n",
        "        if numero == 0:\n",
        "            break\n",
        "        else:\n",
        "            print(f\"O número é {ver(numero)}.\")\n",
        "\n",
        "main()\n"
      ]
    },
    {
      "cell_type": "markdown",
      "id": "5a87474d",
      "metadata": {
        "id": "5a87474d"
      },
      "source": [
        "### Q7.\n",
        "\n",
        "Escreva um programa que pergunte ao usuário qual operação ele deseja: maior ou menor.\n",
        "Em seguida leia uma quantidade indefinida de valores do usuário, até que o usuário digite o valor zero.\n",
        "Apresente ao final o maior ou menor dos valores digitados de acordo com a escolha do usuário.\n",
        "\n",
        "**Sua solução deve incluir pelo menos uma função ```lambda```**\n",
        "\n",
        "Exemplo de interação:\n",
        "```\n",
        "Opções: (1) maior ou (2) menor?\n",
        "Opção: 1\n",
        "\n",
        "Digite os valores de entrada. Digite 0 para finalizar a entrada de valores.\n",
        "4\n",
        "12\n",
        "15\n",
        "1\n",
        "0\n",
        "\n",
        "O maior valor é: 15\n",
        "```"
      ]
    },
    {
      "cell_type": "code",
      "execution_count": 19,
      "id": "ee3f68ca",
      "metadata": {
        "id": "ee3f68ca",
        "colab": {
          "base_uri": "https://localhost:8080/"
        },
        "outputId": "2c17da37-cdde-40d9-d7b8-12e2f553cca0"
      },
      "outputs": [
        {
          "output_type": "stream",
          "name": "stdout",
          "text": [
            "Opção 'maior' ou 'menor'? maior\n",
            "Digite um valor ou 0 para sair: 4\n",
            "Digite um valor ou 0 para sair: 6\n",
            "Digite um valor ou 0 para sair: 8\n",
            "Digite um valor ou 0 para sair: 0\n",
            "O maior valor digitado foi: 8\n"
          ]
        }
      ],
      "source": [
        "maior = lambda atual, novo: novo if novo > atual else atual\n",
        "menor = lambda atual, novo: novo if novo < atual else atual\n",
        "\n",
        "def main():\n",
        "    opt = input(\"Opção 'maior' ou 'menor'? \")\n",
        "\n",
        "    if opt != 'maior' and opt != 'menor':\n",
        "        print(\"Escolha inválida\")\n",
        "        return\n",
        "\n",
        "    valor1 = True\n",
        "    res = None\n",
        "\n",
        "    while True:\n",
        "        valor = int(input(\"Digite um valor ou 0 para sair: \"))\n",
        "        if valor == 0:\n",
        "            break\n",
        "\n",
        "        if valor1:\n",
        "            res = valor\n",
        "            valor1 = False\n",
        "        else:\n",
        "            if opt == 'maior':\n",
        "                res = maior(res, valor)\n",
        "            elif opt == 'menor':\n",
        "                res = menor(res, valor)\n",
        "\n",
        "    if res is not None:\n",
        "        print(f\"O {opt} valor digitado foi: {res}\")\n",
        "    else:\n",
        "        print(\"Nenhum valor válido foi digitado\")\n",
        "\n",
        "main()\n"
      ]
    }
  ],
  "metadata": {
    "kernelspec": {
      "display_name": "Python 3 (ipykernel)",
      "language": "python",
      "name": "python3"
    },
    "language_info": {
      "codemirror_mode": {
        "name": "ipython",
        "version": 3
      },
      "file_extension": ".py",
      "mimetype": "text/x-python",
      "name": "python",
      "nbconvert_exporter": "python",
      "pygments_lexer": "ipython3",
      "version": "3.9.6"
    },
    "colab": {
      "provenance": []
    }
  },
  "nbformat": 4,
  "nbformat_minor": 5
}