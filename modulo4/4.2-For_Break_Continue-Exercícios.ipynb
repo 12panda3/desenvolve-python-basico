{
 "cells": [
  {
   "cell_type": "markdown",
   "id": "29e89030",
   "metadata": {},
   "source": [
    "# Módulo 4 - Repetições\n",
    "\n",
    "## Aulas 4.2 - Comando ```for``` e 4.3 Break e Continue"
   ]
  },
  {
   "cell_type": "markdown",
   "id": "a45b42df",
   "metadata": {},
   "source": [
    "### Q1.\n",
    "\n",
    "Crie um programa em Python que utilize o comando for para imprimir os números de 10 a 1, em ordem decrescente."
   ]
  },
  {
   "cell_type": "code",
   "execution_count": 8,
   "id": "55a75b3d",
   "metadata": {},
   "outputs": [
    {
     "name": "stdout",
     "output_type": "stream",
     "text": [
      "10\n",
      "9\n",
      "8\n",
      "7\n",
      "6\n",
      "5\n",
      "4\n",
      "3\n",
      "2\n",
      "1\n"
     ]
    }
   ],
   "source": [
    "for n in range(10, 0, -1):\n",
    "    print(n)"
   ]
  },
  {
   "cell_type": "markdown",
   "id": "94b47c36",
   "metadata": {},
   "source": [
    "### Q2.\n",
    "\n",
    "Dado um número inteiro positivo informado pelo usuário, crie um programa em Python que utilize o comando for para calcular e exibir a soma dos números de 1 até o número informado. Ou seja, $1 + 2 + 3 + ... + n$\n",
    "\n",
    "Exemplo de interação:\n",
    "```\n",
    "Digite um número: 5\n",
    "A soma dos números de 1 a 5 é 15\n",
    "```\n"
   ]
  },
  {
   "cell_type": "code",
   "execution_count": 17,
   "id": "45b71596",
   "metadata": {
    "scrolled": false
   },
   "outputs": [
    {
     "name": "stdout",
     "output_type": "stream",
     "text": [
      "5\n",
      "1\n",
      "3\n",
      "6\n",
      "10\n",
      "15\n"
     ]
    }
   ],
   "source": [
    "x = int(input())\n",
    "y = int(0)\n",
    "\n",
    "for n in range(1, x+1):\n",
    "    y += n\n",
    "    print (y)"
   ]
  },
  {
   "cell_type": "markdown",
   "id": "0411d170",
   "metadata": {},
   "source": [
    "### Q3.\n",
    "\n",
    "Escreva um programa que lê 10 valores inteiros positivos do usuário e ao final imprime a média dos valores digitados com duas casas decimais.\n",
    "\n",
    "```\n",
    "Digite 10 números positivos:\n",
    "3\n",
    "2\n",
    "12\n",
    "14\n",
    "20\n",
    "42\n",
    "19\n",
    "0\n",
    "8\n",
    "1\n",
    "A média dos valores digitados é 12.10\n",
    "```"
   ]
  },
  {
   "cell_type": "code",
   "execution_count": 22,
   "id": "3f72f358",
   "metadata": {},
   "outputs": [
    {
     "name": "stdout",
     "output_type": "stream",
     "text": [
      "1: 10\n",
      "10\n",
      "1: 10\n",
      "20\n",
      "1: 10\n",
      "30\n",
      "1: 10\n",
      "40\n",
      "1: 10\n",
      "50\n",
      "1: 10\n",
      "60\n",
      "1: 10\n",
      "70\n",
      "1: 10\n",
      "80\n",
      "1: 10\n",
      "90\n",
      "1: 10\n",
      "100\n",
      "10.0\n"
     ]
    }
   ],
   "source": [
    "cont = int(0)\n",
    "x = int(0)\n",
    "\n",
    "while cont < 10:\n",
    "    cont += 1\n",
    "    z = int(input(\"1: \"))\n",
    "    \n",
    "    x += z\n",
    "    print(x)\n",
    "    \n",
    "x /= 10\n",
    "print(x)"
   ]
  },
  {
   "cell_type": "markdown",
   "id": "d62e27ff",
   "metadata": {},
   "source": [
    "# Q4.\n",
    "\n",
    "Você vai criar um sistema que registra os resultados dos jogos do Atlético MG ao longo de um campeonato. Seu sistema vai receber os resultados de todos os jogos do Galo, e deve calcular a pontuação do time sabendo que vitórias valem 3 pontos, empates 1 ponto e derrotas 0 pontos.\n",
    "\n",
    "Entrada: <br>\n",
    "A primeira linha de entrada é um inteiro N com a quantidade jogos do galo. Para cada jogo você deve ler 2 inteiros, o primeiro com a quantidade de gols do galo e o segundo com a quantidade de gols do time oponente. \n",
    "\n",
    "Saída: <br>\n",
    "Apresente a soma de vitórias, empates e derrotas do galo, junto com o cálculo da pontuação total.\n",
    "\n",
    "Ex:\n",
    "```\n",
    "Entrada:\n",
    "4\n",
    "2\n",
    "0\n",
    "1\n",
    "1\n",
    "0\n",
    "3\n",
    "1\n",
    "0\n",
    "\n",
    "Saída:\n",
    "Vitórias: 2\n",
    "Empates: 1\n",
    "Derrotas: 1\n",
    "Pontuação: 7\n",
    "\n",
    "```\n",
    "\n",
    "\n"
   ]
  },
  {
   "cell_type": "code",
   "execution_count": 10,
   "id": "d3fdfc2a",
   "metadata": {},
   "outputs": [
    {
     "name": "stdout",
     "output_type": "stream",
     "text": [
      "Digite o número de jogos.3\n",
      "Digite o número de gols do Galo1\n",
      "Digite o número de gols do time oponente0\n",
      "Digite o número de gols do Galo0\n",
      "Digite o número de gols do time oponente0\n",
      "Digite o número de gols do Galo0\n",
      "Digite o número de gols do time oponente1\n",
      "Número de vitórias: 1\n",
      "Número de derrotas: 1\n",
      "Número de empates: 1\n",
      "Pontuação: 4\n"
     ]
    }
   ],
   "source": [
    "emp = 0\n",
    "vit = 0\n",
    "der = 0\n",
    "\n",
    "pont = 0\n",
    "\n",
    "lis = [emp, vit, der]\n",
    "\n",
    "jogs = int(input('Digite o número de jogos. '))\n",
    "\n",
    "for i in range(jogs):\n",
    "    \n",
    "    gol = int(input('Digite o número de gols do Galo '))\n",
    "    gal = int(input('Digite o número de gols do time oponente '))\n",
    "    \n",
    "    if gol == gal:\n",
    "        emp += 1\n",
    "        pont += 1\n",
    "    \n",
    "    elif gol > gal:\n",
    "        vit += 1\n",
    "        pont += 3\n",
    "        \n",
    "    elif gol < gal:\n",
    "        der += 1\n",
    "        \n",
    "print('Número de vitórias: ', vit)\n",
    "print('Número de derrotas: ', der)\n",
    "print('Número de empates:' , emp)\n",
    "\n",
    "print('Pontuação: ', pont)\n",
    "        \n"
   ]
  },
  {
   "cell_type": "markdown",
   "id": "fc98604d",
   "metadata": {},
   "source": [
    "### Q5.\n",
    "\n",
    "Faça um programa que lê dois inteiros N e M, e imprime na tela um campo de batalha naval. O tabuleiro deve possuir N linhas e M colunas. A primeira linha é composta por um espaço em branco e o cabeçalho das colunas, ou seja, valores de 1 a M. As N linhas seguintes iniciam com o cabeçalho da linha, ou seja, seu número, seguido de M caracteres \"/\" (barra) indicando uma possível posição jogável. \n",
    "\n",
    "```\n",
    "Entrada:\n",
    "5\n",
    "4\n",
    "\n",
    "Saída:\n",
    "  1 2 3 4 \n",
    "1 / / / / \n",
    "2 / / / / \n",
    "3 / / / / \n",
    "4 / / / / \n",
    "5 / / / / \n",
    "```\n",
    "\n",
    "Para esse exercício, precisamos lembrar que o comando print implicitamente adiciona uma quebra de linha ao final da impressão. Podemos interferir no final da impressão adicionando mais uma entrada ao print. No exemplo, finalizamos cada linha com um espaço em branco:\n",
    "```python\n",
    "print(\"Texto qualquer\", end = \" \")\n",
    "```"
   ]
  },
  {
   "cell_type": "code",
   "execution_count": 21,
   "id": "a60ef197",
   "metadata": {},
   "outputs": [
    {
     "name": "stdout",
     "output_type": "stream",
     "text": [
      "Digite o número de colunas: 5\n",
      "Digite o número de linhas: 6\n",
      " 1 2 3 4 5 \n",
      "1/ / / / / \n",
      "2/ / / / / \n",
      "3/ / / / / \n",
      "4/ / / / / \n",
      "5/ / / / / \n",
      "6/ / / / / \n"
     ]
    }
   ],
   "source": [
    "\n",
    "\n",
    "c = int(input('Digite o número de colunas: '))\n",
    "l = int(input('Digite o número de linhas: '))\n",
    "\n",
    "print(' ', end='')\n",
    "\n",
    "for coluna in range (1, c+1):\n",
    "    print(f'{coluna }', end=' ')\n",
    "print()\n",
    "    \n",
    "for linha in range (1, l+1):\n",
    "    print(f'{linha }', end='')\n",
    "    for coluna in range(c):\n",
    "        print('/ ', end='')\n",
    "    print()\n",
    "    \n",
    "\n"
   ]
  },
  {
   "cell_type": "markdown",
   "id": "4654dc0b",
   "metadata": {},
   "source": [
    "---\n",
    "## Break e Continue"
   ]
  },
  {
   "cell_type": "markdown",
   "id": "24fe9d85",
   "metadata": {},
   "source": [
    "### Q6.\n",
    "\n",
    "Escreva um programa que lê uma quantidade indefinida de valores e informa o maior e o menor valor digitados. A leitura é encerrada quando o usuário digitar o valor 0 (zero).\n",
    "\n",
    "```\n",
    "Entrada:\n",
    "12\n",
    "-1\n",
    "29\n",
    "11\n",
    "-5\n",
    "0\n",
    "\n",
    "Saída:\n",
    "Maior: 29\n",
    "Menor: -5\n",
    "```"
   ]
  },
  {
   "cell_type": "code",
   "execution_count": 30,
   "id": "ee1c466a",
   "metadata": {},
   "outputs": [
    {
     "name": "stdout",
     "output_type": "stream",
     "text": [
      "Digite um número (digite zero para finalizar)543\n",
      "Digite um número (digite zero para finalizar)3\n",
      "Digite um número (digite zero para finalizar)2\n",
      "Digite um número (digite zero para finalizar)6547\n",
      "Digite um número (digite zero para finalizar)23\n",
      "Digite um número (digite zero para finalizar)476\n",
      "Digite um número (digite zero para finalizar)643\n",
      "Digite um número (digite zero para finalizar)0\n",
      "6547\n",
      "2\n"
     ]
    }
   ],
   "source": [
    "x = int(1)\n",
    "a = -float('inf')\n",
    "b = float('inf')\n",
    "\n",
    "while x != 0:\n",
    "    x = int(input('Digite um número (digite zero para finalizar)'))\n",
    "    \n",
    "    if x != 0:\n",
    "    \n",
    "        if x > a:\n",
    "            a = x\n",
    "        \n",
    "        if x < b:\n",
    "            b = x\n",
    "        \n",
    "print(a)\n",
    "print(b)\n",
    "    "
   ]
  },
  {
   "cell_type": "markdown",
   "id": "30d486f7",
   "metadata": {},
   "source": [
    "### Q7.\n",
    "\n",
    "Escreva um programa que lê uma quantidade indefinida de valores e informa o **produto** dos valores positivos digitados. A leitura é encerrada quando o usuário digitar o valor 0 (zero).\n",
    "\n",
    "```\n",
    "Entrada:\n",
    "2\n",
    "-1\n",
    "1\n",
    "3\n",
    "-5\n",
    "0\n",
    "\n",
    "Saída:\n",
    "Produto: 6\n",
    "```"
   ]
  },
  {
   "cell_type": "code",
   "execution_count": 4,
   "id": "2f1ac324",
   "metadata": {},
   "outputs": [
    {
     "name": "stdout",
     "output_type": "stream",
     "text": [
      "Digite um número real; 4\n",
      "Digite um número real; 4\n",
      "Digite um número real; 0\n",
      "16\n"
     ]
    }
   ],
   "source": [
    "z = int(1)\n",
    "\n",
    "while True:\n",
    "    x = int(input('Digite um número real; '))\n",
    "    \n",
    "    if x == 0:\n",
    "        break\n",
    "\n",
    "    if x > 0:\n",
    "        z = z*x\n",
    "\n",
    "print(z)"
   ]
  },
  {
   "cell_type": "markdown",
   "id": "e932f3cf",
   "metadata": {},
   "source": [
    "### Q8.\n",
    "\n",
    "Vamos fazer uma calculadora que aceita expressões aritméticas de qualquer tamanho até que o usuário digite a palavra \"Fim\". Sua calculadora executa apenas as operações \"+\", \"-\".\n",
    "\n",
    "```\n",
    "Entrada:\n",
    "5\n",
    "+\n",
    "8\n",
    "-\n",
    "3\n",
    "+\n",
    "2\n",
    "Fim\n",
    "\n",
    "Saída:\n",
    "12\n",
    "```"
   ]
  },
  {
   "cell_type": "code",
   "execution_count": 6,
   "id": "e835d870",
   "metadata": {},
   "outputs": [
    {
     "name": "stdout",
     "output_type": "stream",
     "text": [
      "5\n",
      "+\n",
      "6\n",
      "fim\n",
      "11\n"
     ]
    }
   ],
   "source": [
    "def calc(n, o):\n",
    "    res = n[0]\n",
    "    for i in range(1, len(n)):\n",
    "        if o[i - 1] == '+':\n",
    "            res += n[i]\n",
    "        elif o[i - 1] == '-':\n",
    "            res -= n[i]\n",
    "    return res\n",
    "\n",
    "n = []\n",
    "o = []\n",
    "\n",
    "while True:\n",
    "    a = input()\n",
    "\n",
    "    if a.lower() == \"fim\":\n",
    "        break\n",
    "\n",
    "    if a in ['+', '-']:\n",
    "        o.append(a)\n",
    "    else:\n",
    "        n.append(int(a))\n",
    "\n",
    "res = calc(n, o)\n",
    "print('resultado= ', res)"
   ]
  },
  {
   "cell_type": "code",
   "execution_count": null,
   "id": "e65d2c21",
   "metadata": {},
   "outputs": [],
   "source": []
  }
 ],
 "metadata": {
  "kernelspec": {
   "display_name": "Python 3 (ipykernel)",
   "language": "python",
   "name": "python3"
  },
  "language_info": {
   "codemirror_mode": {
    "name": "ipython",
    "version": 3
   },
   "file_extension": ".py",
   "mimetype": "text/x-python",
   "name": "python",
   "nbconvert_exporter": "python",
   "pygments_lexer": "ipython3",
   "version": "3.11.5"
  }
 },
 "nbformat": 4,
 "nbformat_minor": 5
}
